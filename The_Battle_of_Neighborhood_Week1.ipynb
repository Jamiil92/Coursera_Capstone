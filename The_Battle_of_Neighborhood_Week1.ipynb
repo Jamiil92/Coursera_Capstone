{
    "nbformat_minor": 1, 
    "cells": [
        {
            "source": "<h1 align=center><font size = 5>The battle of neighborhoods in Benin</font></h1>", 
            "cell_type": "markdown", 
            "metadata": {
                "collapsed": true
            }
        }, 
        {
            "source": "## Introduction\n\nBenin formerly Dahomey, is a francophone country in West Africa. The neighboring countries to Benin are Togo to the west, Nigeria to the east and Burkina Faso and Niger to the north. In Benin, majority of people lives in the southern part while from the center to the northern part of the country we have very large surface of land used for farming with few land used for shopping mall or park or business centers. We explain such situation by the concentration of administratives and economics activities in the southern part of the country. In fact the capital of Benin is Porto-Novo (situated in the south, department of Oueme), the seat of government is in Cotonou (situated in the south, department of Littoral). Parakou (situated in the north, department of Borgou) added to Cotonou and Porto-Novo are three cities with particular status for their density in administrative and economics activities.", 
            "cell_type": "markdown", 
            "metadata": {}
        }, 
        {
            "source": "Below a division of Benin into its twelve departments.\n\n<h1 align=center><img src = \"https://upload.wikimedia.org/wikipedia/commons/thumb/e/eb/Benin_departments_named.png/220px-Benin_departments_named.png\" width = 200></h1>", 
            "cell_type": "markdown", 
            "metadata": {}
        }, 
        {
            "source": "## Business Problem\n\nFor many foreigners investing in Benin as well as citizens it is more common to settle a business in the south and make its strive by the power of your marketing strategies. However, this could easily turn into a nightmare of endless financial investment due to the very fierce competition between small and big companies or newly established growing companies and old well-established countries. As mentionned earlier, the northern part of the country really abounds of free land that are ready to be used for bussiness establishement and a population badly in need of that. That being said entrepreneurs are still skeptic to establish themselves and develop good business activities. In this study we would like to draw again to the attention of Benineses and foreigns investors the real existence of an empty vaccum that needs to be filled for good business profit and development of the country at large in order to re-equilibrate this distribution of business activities all over the country. ", 
            "cell_type": "markdown", 
            "metadata": {}
        }, 
        {
            "source": "## Data Description \n\nTo approach this problem we will use the following data as follow :\n\n- We found the informations about the departments and communes of Benin on wikipedia : We scrape that information to create our dataframe of  Department, Borough and Region.\n\n- We found sample of dataset about the regions and their neighborhoods in Benin at the webpage GeoPostcodes : We use this information to create a geocoder dataframe of department, region with their neighborhood and the information about their latitude and longitude. \n\n- We used Foursquare API to collect the infomration about the venues in two selected region : We will select one region in the south and another in the north of the country. These selected region will be subjected to some analysis to identify the most common venues in these part of the country.  ", 
            "cell_type": "markdown", 
            "metadata": {}
        }, 
        {
            "source": "", 
            "cell_type": "code", 
            "metadata": {}, 
            "outputs": [], 
            "execution_count": null
        }
    ], 
    "metadata": {
        "kernelspec": {
            "display_name": "Python 3.5", 
            "name": "python3", 
            "language": "python"
        }, 
        "language_info": {
            "mimetype": "text/x-python", 
            "nbconvert_exporter": "python", 
            "version": "3.5.5", 
            "name": "python", 
            "file_extension": ".py", 
            "pygments_lexer": "ipython3", 
            "codemirror_mode": {
                "version": 3, 
                "name": "ipython"
            }
        }
    }, 
    "nbformat": 4
}