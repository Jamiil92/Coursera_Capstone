{
 "cells": [
  {
   "cell_type": "markdown",
   "metadata": {},
   "source": [
    "<h1 align=center><font size = 5>The battle of neighborhoods in Benin</font></h1>"
   ]
  },
  {
   "cell_type": "markdown",
   "metadata": {},
   "source": [
    "## Introduction\n",
    "\n",
    "Benin formerly Dahomey, is a francophone country in West Africa. The neighboring countries to Benin are Togo to the west, Nigeria to the east and Burkina Faso and Niger to the north. In Benin, majority of people lives in the southern part while from the center to the northern part of the country we have very large surface of land used for farming with few land used for shopping mall or park or business centers. We explain such situation by the concentration of administratives and economics activities in the southern part of the country. In fact the capital of Benin is Porto-Novo (situated in the south, department of Oueme), the seat of government is in Cotonou (situated in the south, department of Littoral). Parakou (situated in the north, department of Borgou) added to Cotonou and Porto-Novo are three cities with particular status for their density in administrative and economics activities."
   ]
  },
  {
   "cell_type": "markdown",
   "metadata": {},
   "source": [
    "## Business Problem\n",
    "\n",
    "For many foreigners investing in Benin as well as citizens it is more common to settle a business in the south and make its flourish by the power of your marketing strategies. However, this could easily turn into a nightmare of endless financial investment due to the very fierce competition between small and big companies or newly established growing companies and old well-established companies. As mentionned earlier, the northern part of the country really abounds of free land that are ready to be used for bussiness establishement and a population badly in need of that. However, entrepreneurs are still skeptic to establish themselves and develop good business activities. In this study we would like to draw again to the attention of Benineses and foreigns investors the real existence of an empty vaccum that needs to be filled for good business profit and development of the country at large in order to re-equilibrate this distribution of business activities all over the country. "
   ]
  },
  {
   "cell_type": "markdown",
   "metadata": {},
   "source": [
    "## Data Description \n",
    "\n",
    "To approach this problem we will use the following data as follow :\n",
    "\n",
    "- We found the informations about the departments and communes of Benin on wikipedia : We scrape that information to create our dataframe of  Department, Borough and Region.\n",
    "\n",
    "- We found sample of dataset about the regions and their neighborhoods in Benin at the webpage GeoPostcodes : We use this information to create a geocoder dataframe of department, region with their neighborhood and the information about their latitude and longitude. \n",
    "\n",
    "- We used Foursquare API to collect the infomration about the venues in two selected region : We will select one region in the south and another in the north of the country. These selected region will be subjected to some analysis to identify the most common venues in these part of the country.  "
   ]
  },
  {
   "cell_type": "markdown",
   "metadata": {},
   "source": [
    "## Methodology\n",
    "\n",
    "The objective of the analysis is to show how distributed are the infrastructures in some specifics neighborhoods of region in Benin country. Here we decide to focus our analysis on one chosen region and its neighborhoods in the southern and northern part. In order to achieve this goal, we first scraped information about the twelve departments of Benin and their positions on the map. We found this information on a wikipedia page accessible from this link https://en.wikipedia.org/wiki/Benin. The scraped and cleaned table look as follow.\n",
    "\n",
    "<img src=\"table_scraped.PNG\">\n",
    "\n",
    "The cleaning process mainly consisted of dropping non relevant columns editing the headings and formating the dataframe for our purpose. It is good to highlight here that the concept of Borough in Benin setting is equivalent to region.  \n",
    "\n",
    "The next step to show the distribution of the infrastructures is to list the region and their neighborhoods with their geographic position on a world map. We downloaded this information in a csv format file from the sample dataset available at https://www.geopostcodes.com/Benin. It also important here to mention that this limited our scope of research since we couldn't afford to purchase the whole information available on the web page. So, with access to the full dataset we could reach more interesting result. Below the processed information obtained from the geopostcodes webpage.\n",
    "\n",
    "<img src=\"geoCodetable.PNG\">\n",
    "\n",
    "As with the previous dataframe, the processing of information consisted of dropping and formating heading of the dataframe. \n",
    "\n",
    "We now choose the two region we want to explore in our study : Banikoara and Abomey-Calavi. The choice of the two region has been conditioned by their geographical position and also the ability to be a center of probable business activities. In fact Abomey-Calavi (southern part of Benin) is a new growing region inhabited by many citizens and mostly students whereas Banikoara (northern part Benin) is known to be one of the heart of Cotton activities, an important sector which accounts for 40% of the GDP and roughly 80% of official export receipts. Below an illustration of the region geograpical positions of the selected regions alongside with their neighborhoods. \n",
    "\n",
    "<img src=\"tworegion.PNG\">\n",
    "\n",
    "After selecting the concerned region we then analyze each neighborhood using foursquare API and cluster them using the K-means algorithm. Since foursquare API helps to provide the category type of venues in a neighborhood we use this information to calculate the frequency of venues in a neighborhood of the given regions and then identify the most common venues. This result has then be used to cluster the neighborhood respectively by region and used in deciding whether or not a region is made of common infrastructures such as shopping mall,  Business service, health and beauty service, motorcyclce shop etc.\n",
    "\n",
    "To query the information about the venues in a neighborhood of a region we set the radius to 100000. This value was the only one which allowed us to obtain very consistent result although it is not accurate due to the interference of radius with another neighborhood. \n",
    "\n",
    "To cluster the neighborhood we used k =2 for Banikoara regions and k=2 for Abomey-Calvai regions. The choice of K has been done after running the algorithm for different k and eyeballing the results. We have chosen this over the elbow method since the dataset is not big. "
   ]
  },
  {
   "cell_type": "markdown",
   "metadata": {},
   "source": [
    "## Results\n",
    "\n",
    "When we querry the neighborhood via the foursquare API for each region we obtain respectively 4 venues for Banikoara and 37 for Abomey-Calavi.  \n",
    "\n",
    "##### Banikoara : <img src=\"venues-foursquarebani.PNG\">.\n",
    "\n",
    "##### Abomey-Calavi : <img src=\"venues-foursquareabom.PNG\">. \n",
    "\n",
    "Now that we have an idea of venues in the regions of Banikoara and Abomey-Calavi our next analysis was to look for the neighborhood in this regions and then group the neighborhood by venues. In other words, in each neighborhood add up the number of time a given venue appeared. We later then compute the frequency of appearance of a venue in each neighborhood. \n",
    "\n",
    "##### Banikoara : \n",
    "<img src=\"venuesbyneighbani.PNG\">.\n",
    "\n",
    "##### Abomey-Calavi : <img src=\"venuesbyneighabomey.PNG\">.\n",
    "\n",
    "\n",
    "Below the comuptation of frequency of occurences of venues in each neighborhood of the given regions.\n",
    "\n",
    "##### Banikoara : <img src=\"freq-banikoara.PNG\">           Abomey-Calavi : <img src=\"freq-abomeycalavi.PNG\"> \n"
   ]
  },
  {
   "cell_type": "markdown",
   "metadata": {},
   "source": [
    "Below the most common venue based on the frequency of occurence. \n",
    "\n",
    "##### Banikoara : <img src=\"venues-banikoara.PNG\">           \n",
    "##### Abomey-Calavi : <img src=\"venues-abomeycalavi.PNG\"> \n"
   ]
  },
  {
   "cell_type": "markdown",
   "metadata": {},
   "source": [
    "From this result we obtain the following clustering of the neighborhood based on the category type of the venues\n",
    "##### Banikoara : \n",
    "\n",
    "<img src=\"mostcombani1.PNG\"> <img src=\"mostcombani2.PNG\"> \n",
    "\n",
    "With less quality data we can infer here that in Banikoara a region situtated in the northern part of Benin that the three\n",
    "first common venue of interest are : Food & Drink Shop, Plaza and Market The result is quite understandable because this part of the country abunds of farming land as mentioned in the introduction due to the remoted character of the region.Moreover for clarification this venues are full of small business that helps families survive and covers the daily business.\n",
    "\n",
    "##### Abomey-Calavi : \n",
    "\n",
    "<img src=\"mostcomabomi1.PNG\"> <img src=\"mostcomabomi2.PNG\">\n",
    "\n",
    "We could notice here from the clustering of neighborhood in the southern part we have more of shopping mall, resort and hotels venue.\n",
    "Which is understandable since this part of the country is in consistent development and very frequented by young people and foreigners. We must also clarify here that the discovered venues are very big business because of the character expensive of services offered.   "
   ]
  },
  {
   "cell_type": "markdown",
   "metadata": {},
   "source": [
    "On a map this gives us the following views\n",
    "\n",
    "##### Banikoara : <img src=\"clustering-banikoara.PNG\">          \n",
    "\n",
    "##### Abomey-Calavi : <img src=\"clustering-abomeycalavi.PNG\"> "
   ]
  },
  {
   "cell_type": "markdown",
   "metadata": {},
   "source": [
    "In summary the result of clustered neighborhood per region showed us a distribution of venues as follow : \n",
    "\n",
    "Considering the three most common venues, in Banikoara we have various venues with dominant venues being : Food & Drinks shop, Plaza and Market. On the other hand in Abomey Calavi we have a very consistent dominance of venues such as : Shopping Mall, Resort and Hotels.\n",
    "\n",
    "Considering that the turnover of venues in the northern part of Benin is around 5% of the ones in the southern part. These results first suggest the potential needs to invest in such sector of activities in the northern part of the country. And second the real lack of such business opportunities that entrepreneurs, foreigns investors, authorities should exploit for the benefits of all (citizens and the different actors) and a balance found between the activities of the south and the north.     "
   ]
  },
  {
   "cell_type": "markdown",
   "metadata": {},
   "source": [
    "## Discussions\n",
    "\n",
    "As all human work is not perfect we discuss here some results we obtain, not to discredit them but to put a bit of abstention on the certainty of those results although Beninese would agree with me that this current problem of distribution of infrastructures or services prevail in the country.\n",
    "\n",
    "First, we discuss here the quality of our dataset used for the geocoding of department, borough and neighborhood. We were able to download a sample dataset meaning we were limited in our search. If allowed to have the full list we would have gear this study toward a comparison between the city of Cotonou and Parakou for more consistent results.  \n",
    "\n",
    "Second, we used foursquare API to obtain the neighborhood and venues of each region. The choice of radius as mentioned above is very detrimental of the quality of neighborhood and venues obtained. Here we wish to have perform our query within a radius of 500 for concise and accurate result. Nevertheless the obtained also reveals the necessity to geocode venues and places in the whole territory of Benin. For instance in our study for Banikoara we identify 9 uniques venues in the region and for Abomey-Calavi we got 28 unique venues. This work is in progress and we hope to obtain more data and surely open data. \n",
    "\n",
    "Third, we clustered the neighborhood based on the frequency of occurrences of venues using K-means. As mentioned above it was best if the choice of k was done using the elbow method. Plus due to the number of parameter to consider in characterizing small or big business we found in our clusters certain of our affirmation needs to be carefully scrutinize with more data at hand.\n",
    "\n",
    "In the end, we consider the obtained result to serve as a support that could be expanded to other cities like Cotonou and Parakou with the availability of open data. As usual, in such studies the accessibility and quality of data sometimes gear to the obtainment of very appealing results."
   ]
  },
  {
   "cell_type": "markdown",
   "metadata": {},
   "source": [
    "## Conclusion\n",
    "\n",
    "In a nutshell, we clearly see here that the northern part of Benin is the center of business activities that revolves mainly around Food & Drinks Shop, Plaza and Markets. Activities which we consider as small business. On the other hand in the southern part we were able to highlight venues such as : Shopping mall, Resort and Hotels which we consider as big business. As a result, investors and Benineses are invited to explore for business on the other side of the country (north) this with respect of feasibility study and good marketing of your business for both winning party your business profits and the development of Benin."
   ]
  },
  {
   "cell_type": "code",
   "execution_count": null,
   "metadata": {},
   "outputs": [],
   "source": []
  }
 ],
 "metadata": {
  "kernelspec": {
   "display_name": "Python 3",
   "language": "python",
   "name": "python3"
  },
  "language_info": {
   "codemirror_mode": {
    "name": "ipython",
    "version": 3
   },
   "file_extension": ".py",
   "mimetype": "text/x-python",
   "name": "python",
   "nbconvert_exporter": "python",
   "pygments_lexer": "ipython3",
   "version": "3.6.8"
  }
 },
 "nbformat": 4,
 "nbformat_minor": 2
}
