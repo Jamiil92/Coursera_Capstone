{
 "cells": [
  {
   "cell_type": "markdown",
   "metadata": {},
   "source": [
    "<h1 align=center><font size = 5>The battle of neighborhoods in Benin</font></h1>"
   ]
  },
  {
   "cell_type": "markdown",
   "metadata": {},
   "source": [
    "## Introduction\n",
    "\n",
    "Benin formerly Dahomey, is a francophone country in West Africa. The neighboring countries to Benin are Togo to the west, Nigeria to the east and Burkina Faso and Niger to the north. In Benin, majority of people lives in the southern part while from the center to the northern part of the country we have very large surface of land used for farming with few land used for shopping mall or park or business centers. We explain such situation by the concentration of administratives and economics activities in the southern part of the country. In fact the capital of Benin is Porto-Novo (situated in the south, department of Oueme), the seat of government is in Cotonou (situated in the south, department of Littoral). Parakou (situated in the north, department of Borgou) added to Cotonou and Porto-Novo are three cities with particular status for their density in administrative and economics activities."
   ]
  },
  {
   "cell_type": "markdown",
   "metadata": {},
   "source": [
    "## Business Problem\n",
    "\n",
    "For many foreigners investing in Benin as well as citizens it is more common to settle a business in the south and make its flourish by the power of your marketing strategies. However, this could easily turn into a nightmare of endless financial investment due to the very fierce competition between small and big companies or newly established growing companies and old well-established companies. As mentionned earlier, the northern part of the country really abounds of free land that are ready to be used for bussiness establishement and a population badly in need of that. However, entrepreneurs are still skeptic to establish themselves and develop good business activities. In this study we would like to draw again to the attention of Benineses and foreigns investors the real existence of an empty vaccum that needs to be filled for good business profit and development of the country at large in order to re-equilibrate this distribution of business activities all over the country. "
   ]
  },
  {
   "cell_type": "markdown",
   "metadata": {},
   "source": [
    "## Data Description \n",
    "\n",
    "To approach this problem we will use the following data as follow :\n",
    "\n",
    "- We found the informations about the departments and communes of Benin on wikipedia : We scrape that information to create our dataframe of  Department, Borough and Region.\n",
    "\n",
    "- We found sample of dataset about the regions and their neighborhoods in Benin at the webpage GeoPostcodes : We use this information to create a geocoder dataframe of department, region with their neighborhood and the information about their latitude and longitude. \n",
    "\n",
    "- We used Foursquare API to collect the infomration about the venues in two selected region : We will select one region in the south and another in the north of the country. These selected region will be subjected to some analysis to identify the most common venues in these part of the country.  "
   ]
  },
  {
   "cell_type": "markdown",
   "metadata": {},
   "source": [
    "## Methodology\n",
    "\n",
    "The objective of the analysis is to show how distributed are the infrastructures in some specifics neighborhoods of region in Benin country. Here we decide to focus our analysis on one chosen region and its neighborhoods in the southern and northern part. In order to achieve this goal, we first scraped information about the tweleve departments of Benin and their positions on the map. We found this information on a wikipedia page accessible from this link https://en.wikipedia.org/wiki/Benin. The scraped and cleaned table look as follow.\n",
    "\n",
    "<img src=\"table_scraped.PNG\">\n",
    "\n",
    "The next steps to show the distribution of the infrastructures is to list the region and their neighborhoods with their geographic position on a world map. We downloaded this information in a csv format from the sample dataset available at https://www.geopostcodes.com/Benin. It also important here to mention that this limited our scope of research since we couldn't afford to download the whole information available on the webpage. So, with access to the full dataset we could reach more interesting result. Below the processed information obtained from the geopostcodes webpage.\n",
    "\n",
    "<img src=\"geoCodetable.PNG\">\n",
    "\n",
    "We now choose the two region we want to explore in our study : Banikoara and Abomey-Calavi. The choice of the two region has been conditionned by their geographical position and also the ability to be a center of probable business activities. In fact Abomey-Calavi (southern part of Benin) is a new growing region inhabited by many citizens and mostly students whereas Banikoara (northern part Benin) is known to be one of the heart of Cotton activities, an important sector which accounts for 40% of the GDP and roughly 80% of official export receipts. Below an illustration of the region geograpical positions alongside with their neighborhoods. \n",
    "\n",
    "<img src=\"tworegion.PNG\">\n",
    "\n",
    "After selecting the concerned region we then analyze each neighborhood using foursquare API and cluster them using the K-means algorithm. Since foursquare API helps to provide the category type of venues in a neighborhood we use this information to calculate the frequency of venues in a neighborhood of the given regions and then identify the most common venues. This result has then be used to cluster the neighborhood respectively by region and used in deciding whether or not a region is made of common infrastructures such as shopping mall,  Business service, health and beauty service, motorcyclce shop etc.\n",
    "\n",
    "To querry the information about the venues in a neighborhood of a region we set the radius to 100000. This value was the only one which allowed us to obtain very consistent result although is not accurate due to the interference of radius in another neighborhood. \n",
    "\n",
    "To cluster the neighborhood used k =3 for Banikoara regions and k=2 for Abomey-Calvai regions. The choice of K has been done after running the \n",
    "algorithm for different k and eyeballing the results. We preferred this over the elbow method since the dataset is not big. "
   ]
  },
  {
   "cell_type": "markdown",
   "metadata": {},
   "source": [
    "## Results\n",
    "\n",
    "When we querry the neighborhood via the foursquare API for each region we obtain respectively 4 venues for Banikoara and 37 for Abomey-Calavi.  \n",
    "\n",
    "Below the comuptation of frequency of occurences of venues in each neighborhood of the given regions.\n",
    "\n",
    "Banikoara : <img src=\"freq-banikoara.PNG\">           Abomey-Calavi : <img src=\"freq-abomeyCalavi.PNG\"> \n",
    "\n"
   ]
  },
  {
   "cell_type": "markdown",
   "metadata": {},
   "source": [
    "Below the most common venue based on the frequency of occurence. \n",
    "\n",
    "Banikoara : <img src=\"venues-banikoara.PNG\">           Abomey-Calavi : <img src=\"venues-abomeycalavi.PNG\"> "
   ]
  },
  {
   "cell_type": "markdown",
   "metadata": {},
   "source": [
    "From this result we obtain the following clustering of the neighborhood based on the category type of the venues\n",
    "\n",
    "Banikoara : <img src=\"clustering-banikoara.PNG\">           Abomey-Calavi : <img src=\"clustering-abomeycalavi.PNG\"> "
   ]
  },
  {
   "cell_type": "markdown",
   "metadata": {},
   "source": [
    "## Discussions"
   ]
  },
  {
   "cell_type": "markdown",
   "metadata": {},
   "source": [
    "## Conclusions"
   ]
  },
  {
   "cell_type": "code",
   "execution_count": null,
   "metadata": {},
   "outputs": [],
   "source": []
  }
 ],
 "metadata": {
  "kernelspec": {
   "display_name": "Python 3",
   "language": "python",
   "name": "python3"
  },
  "language_info": {
   "codemirror_mode": {
    "name": "ipython",
    "version": 3
   },
   "file_extension": ".py",
   "mimetype": "text/x-python",
   "name": "python",
   "nbconvert_exporter": "python",
   "pygments_lexer": "ipython3",
   "version": "3.6.8"
  }
 },
 "nbformat": 4,
 "nbformat_minor": 2
}
