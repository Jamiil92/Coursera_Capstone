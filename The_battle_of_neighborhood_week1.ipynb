<h1 align=center><font size = 5>The battle of neighborhoods in Benin</font></h1>


## Introduction

Benin formerly Dahomey, is a francophone country in West Africa. The neighboring countries to Benin are Togo to the west, Nigeria to the east and Burkina Faso and Niger to the north. In Benin, majority of people lives in the southern part while from the center to the northern part of the country we have very large surface of land used for farming with few land used for shopping mall or park or business centers. We explain such situation by the concentration of administratives and economics activities in the southern part of the country. In fact the capital of Benin is Porto-Novo (situated in the south, department of Oueme), the seat of government is in Cotonou (situated in the south, department of Littoral). Parakou (situated in the north, department of Borgou) added to Cotonou and Porto-Novo are three cities with particular status for their density in administrative and economics activities.

Below a division of Benin into its twelve departments.

<h1 align=center><img src = "https://upload.wikimedia.org/wikipedia/commons/thumb/e/eb/Benin_departments_named.png/220px-Benin_departments_named.png" width = 200></h1>

## Business Problem

For many foreigners investing in Benin as well as citizens it is more common to settle a business in the south and make its strive by the power of your marketing strategies. However, this could easily turn into a nightmare of endless financial investment due to the very fierce competition between small and big companies or newly established growing companies and old well-established countries. As mentionned earlier, the northern part of the country really abounds of free land that are ready to be used for bussiness establishement and a population badly in need of that. That being said entrepreneurs are still skeptic to establish themselves and develop good business activities. In this study we would like to draw again to the attention of Benineses and foreigns investors the real existence of an empty vaccum that needs to be filled for good business profit and development of the country at large in order to re-equilibrate this distribution of business activities all over the country. 
